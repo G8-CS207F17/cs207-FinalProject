{
 "cells": [
  {
   "cell_type": "code",
   "execution_count": 14,
   "metadata": {},
   "outputs": [
    {
     "name": "stdout",
     "output_type": "stream",
     "text": [
      "Writing parser.py\n"
     ]
    }
   ],
   "source": [
    "%%file parser.py\n",
    "import xml.etree.ElementTree as ET\n",
    "tree = ET.parse('rxns.xml')\n",
    "root = tree.getroot()\n",
    "\n",
    "Arrhenius = []\n",
    "import numpy as np\n",
    "for child in root.find('reactionData').findall('reaction'):\n",
    "    \n",
    "    # Default values\n",
    "    T = 1500\n",
    "    \n",
    "    # Parse reactants and products\n",
    "    species_dict = {'reactants':{}, 'products':{}}\n",
    "    reactants = child.find('reactants').text.split()\n",
    "    products = child.find('products').text.split()\n",
    "    for pair in reactants:\n",
    "        key, value = pair.split(':')\n",
    "        species_dict['reactants'][key] = float(value)\n",
    "    for pair in products:\n",
    "        key, value = pair.split(':')\n",
    "        species_dict['products'][key] = float(value)\n",
    "    \n",
    "    # Parse reaction coefficients\n",
    "    coeffs = child.find('rateCoeff')\n",
    "    reaction_rate = None\n",
    "    if coeffs.find('Arrhenius'):\n",
    "        coeffs_dict['A'] = float(coeffs.find('Arrhenius').find('A').text)\n",
    "        coeffs_dict['E'] = float(coeffs.find('Arrhenius').find('E').text)\n",
    "        \n",
    "    if coeffs.find('modifiedArrhenius'):\n",
    "        coeffs_dict['A'] = float(coeffs.find('modifiedArrhenius').find('A').text)\n",
    "        coeffs_dict['E'] = float(coeffs.find('modifiedArrhenius').find('E').text)\n",
    "        coeffs_dict['b'] = float(coeffs.find('modifiedArrhenius').find('b').text)\n",
    "    if coeffs.find('Constant'):\n",
    "        coeffs_dict['k'] = float(coeffs.find('Constant').find('k').text)\n",
    "        \n",
    "\n",
    "    print(species_dict)\n",
    "    print(coeffs_dict)\n",
    "        \n",
    "        \n"
   ]
  },
  {
   "cell_type": "code",
   "execution_count": null,
   "metadata": {
    "collapsed": true
   },
   "outputs": [],
   "source": []
  }
 ],
 "metadata": {
  "kernelspec": {
   "display_name": "Python 3",
   "language": "python",
   "name": "python3"
  },
  "language_info": {
   "codemirror_mode": {
    "name": "ipython",
    "version": 3
   },
   "file_extension": ".py",
   "mimetype": "text/x-python",
   "name": "python",
   "nbconvert_exporter": "python",
   "pygments_lexer": "ipython3",
   "version": "3.6.1"
  }
 },
 "nbformat": 4,
 "nbformat_minor": 2
}
